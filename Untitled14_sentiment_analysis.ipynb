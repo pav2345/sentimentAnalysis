{
  "nbformat": 4,
  "nbformat_minor": 0,
  "metadata": {
    "colab": {
      "provenance": [],
      "include_colab_link": true
    },
    "kernelspec": {
      "name": "python3",
      "display_name": "Python 3"
    },
    "language_info": {
      "name": "python"
    }
  },
  "cells": [
    {
      "cell_type": "markdown",
      "metadata": {
        "id": "view-in-github",
        "colab_type": "text"
      },
      "source": [
        "<a href=\"https://colab.research.google.com/github/pav2345/sentimentAnalysis/blob/main/Untitled14_sentiment_analysis.ipynb\" target=\"_parent\"><img src=\"https://colab.research.google.com/assets/colab-badge.svg\" alt=\"Open In Colab\"/></a>"
      ]
    },
    {
      "cell_type": "code",
      "execution_count": null,
      "metadata": {
        "colab": {
          "base_uri": "https://localhost:8080/"
        },
        "id": "H4Xy9v50YFFm",
        "outputId": "3d3c99d7-e327-4829-e1b5-60da32c23a85"
      },
      "outputs": [
        {
          "output_type": "stream",
          "name": "stderr",
          "text": [
            "[nltk_data] Downloading package vader_lexicon to /root/nltk_data...\n",
            "[nltk_data]   Package vader_lexicon is already up-to-date!\n"
          ]
        }
      ],
      "source": [
        "import nltk\n",
        "from nltk.sentiment.vader import SentimentIntensityAnalyzer\n",
        "nltk.download(\"vader_lexicon\")\n",
        "sia = SentimentIntensityAnalyzer()\n",
        "text = \"I told my friend that he sad to not get first rank\""
      ]
    },
    {
      "cell_type": "code",
      "source": [
        "sentiment_scores = sia.polarity_scores(text)\n",
        "compound_score = sentiment_scores[\"compound\"]\n"
      ],
      "metadata": {
        "id": "UEISiwrCYn6Z"
      },
      "execution_count": null,
      "outputs": []
    },
    {
      "cell_type": "code",
      "source": [
        "if compound_score >= 0.05:\n",
        "  sentiment = \"positive\"\n",
        "elif compound_score <= -0.05:\n",
        "  sentiment = \"negative\"\n",
        "else:\n",
        "  sentiment = \"neutral\""
      ],
      "metadata": {
        "id": "c4h9y4vBY47b"
      },
      "execution_count": null,
      "outputs": []
    },
    {
      "cell_type": "code",
      "source": [
        "print(f\"Text: {text}\")\n",
        "print(f\"Sentiment: {sentiment}\")\n",
        "print(f\"Compound_Score: {compound_score}\")"
      ],
      "metadata": {
        "colab": {
          "base_uri": "https://localhost:8080/"
        },
        "id": "YvOhzEH3ZPSj",
        "outputId": "dc0bc29f-fec4-40b2-ceb0-0ca755479dba"
      },
      "execution_count": null,
      "outputs": [
        {
          "output_type": "stream",
          "name": "stdout",
          "text": [
            "Text: I told my friend that he sad to not get first rank\n",
            "Sentiment: neutral\n",
            "Compound_Score: 0.0258\n"
          ]
        }
      ]
    },
    {
      "cell_type": "code",
      "source": [],
      "metadata": {
        "id": "d_AEMWgyZioC"
      },
      "execution_count": null,
      "outputs": []
    }
  ]
}